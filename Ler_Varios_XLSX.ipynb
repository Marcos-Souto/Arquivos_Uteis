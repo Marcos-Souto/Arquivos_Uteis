{
 "cells": [
  {
   "cell_type": "code",
   "execution_count": 2,
   "metadata": {},
   "outputs": [],
   "source": [
    "import pandas as pd\n",
    "import xlrd\n",
    "import os\n",
    "import glob\n"
   ]
  },
  {
   "cell_type": "code",
   "execution_count": 43,
   "metadata": {},
   "outputs": [],
   "source": [
    "dff = pd.DataFrame()\n",
    "\n",
    "my_dir = str(r\"Y:\\VALIDAÇÕES\\Arquivo Geral SAS\")\n",
    "os.chdir(my_dir)\n",
    "\n",
    "data=[]\n",
    "for files in glob.glob('*.xlsx'):\n",
    "    try:\n",
    "        tabela =xlrd.open_workbook(files).sheet_by_name(\"CVC\")\n",
    "        nlinhas=tabela.nrows\n",
    "    \n",
    "        for i in range(1,nlinhas):\n",
    "            data.append(tabela.row_values(i))\n",
    "    except:\n",
    "        pass \n",
    "    \n",
    "df = pd.DataFrame(data)\n",
    "df.columns=[tabela.row_values(0)]\n",
    "\n",
    "df.to_excel(r\"Y:\\VALIDAÇÕES\\Arquivo Geral SAS\\Nova pasta\\teste.xlsx\")\n"
   ]
  },
  {
   "cell_type": "code",
   "execution_count": null,
   "metadata": {},
   "outputs": [],
   "source": []
  }
 ],
 "metadata": {
  "kernelspec": {
   "display_name": "Python 3",
   "language": "python",
   "name": "python3"
  },
  "language_info": {
   "codemirror_mode": {
    "name": "ipython",
    "version": 3
   },
   "file_extension": ".py",
   "mimetype": "text/x-python",
   "name": "python",
   "nbconvert_exporter": "python",
   "pygments_lexer": "ipython3",
   "version": "3.6.4"
  }
 },
 "nbformat": 4,
 "nbformat_minor": 2
}
