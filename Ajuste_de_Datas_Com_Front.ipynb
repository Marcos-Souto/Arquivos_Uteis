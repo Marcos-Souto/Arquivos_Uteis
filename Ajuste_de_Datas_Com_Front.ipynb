{
 "cells": [
  {
   "cell_type": "markdown",
   "metadata": {},
   "source": [
    "# Aplicação para criar tabela fato de atestados e afastaos"
   ]
  },
  {
   "cell_type": "raw",
   "metadata": {},
   "source": [
    "Esta aplicação pegas os dados da tabela de afastados e atestados e os organizam de forma que consiga em uma tabela fato de maeira que se consiga saber o numero de dias perdidos por mês\n",
    " Lembrando que a planilha de ser a primeira entre as demais e nela a de de haver obritariamentes algumas colunas com as seguintes identificações:\n",
    "     dtInicio = esta coluna e obrigatoria e deve conter a data de inicio da ausencia\n",
    "     dtFim = Coluna obrigatorio e deve conter a data fim da ausencia\n",
    "     CID= coluna obrigatoria no arquivo, mas como o CID não é obrigatorio pode conter alguns registro em branco\n",
    "     CPF= coluna obrigatoria, este registro sera utilizado como chave\n",
    "     Tempo= coluna obrigatoria, é utilizada para facilitar o calculo de tempo de ausencia, pode ser em dias, meses, anos, o importante é que a dimenção seja igual em todos os registros"
   ]
  },
  {
   "cell_type": "code",
   "execution_count": 6,
   "metadata": {
    "collapsed": true
   },
   "outputs": [],
   "source": [
    "import csv\n",
    "import xlrd\n",
    "import tkinter as tk\n",
    "from tkinter import *\n",
    "from functools import partial\n",
    "from tkinter import filedialog\n",
    "from tkinter import messagebox\n",
    "import pandas as pd\n",
    "import datetime\n",
    "from datetime import timedelta\n",
    "from datetime import datetime"
   ]
  },
  {
   "cell_type": "markdown",
   "metadata": {},
   "source": [
    " Função abre caixa de dialogo para localizar aquivo .xls*"
   ]
  },
  {
   "cell_type": "code",
   "execution_count": 2,
   "metadata": {
    "collapsed": true
   },
   "outputs": [],
   "source": [
    "def fun_Caminho():\n",
    "        #---Abre a caixa de dialogo e atribui o caminho a string ---------\n",
    "        caminho = filedialog.askopenfilename(initialdir = \"/\",title = \"Select file\",filetypes = ((\"Excel files\",\"*.xls*\"),(\"all files\",\"*.*\")))\n",
    "        return caminho\n",
    "        "
   ]
  },
  {
   "cell_type": "markdown",
   "metadata": {},
   "source": [
    "Carrega o DataFrame com as informações do arquivo e renomeia as colunas"
   ]
  },
  {
   "cell_type": "code",
   "execution_count": 3,
   "metadata": {},
   "outputs": [],
   "source": [
    "def fun_Carrega_DF_Atestados(dfAtest, strTabela):\n",
    "    df=pd.DataFrame(dfAtest)\n",
    "    df.columns=[strTabela.row_values(0)]\n",
    "#------Converte as colunas em datatime ------------------------\n",
    "    df['dtInicio']=pd.to_datetime(df['dtInicio'].squeeze().tolist(),format=\"%d/%m/%Y\")\n",
    "    df['dtFim']=pd.to_datetime(df['dtFim'].squeeze().tolist(),format=\"%d/%m/%Y\")\n",
    "\n",
    "    dtInicio=df.dtInicio.min()\n",
    "    dtFim=df.dtFim.max()\n",
    "    return df"
   ]
  },
  {
   "cell_type": "markdown",
   "metadata": {},
   "source": [
    "Cria uma tabela calendario auxiliar, utilizando a menor data de inicio da ausencia e a maior data fim da ausencia "
   ]
  },
  {
   "cell_type": "code",
   "execution_count": 4,
   "metadata": {
    "scrolled": false
   },
   "outputs": [],
   "source": [
    "def fun_Tabela_Calendario(Tempo,strdtInicio):\n",
    "    dCalendario=[]\n",
    "    for dtBase in range(1, Tempo):\n",
    "        dCalendario.append(strdtInicio + timedelta(days=dtBase))\n",
    "    \n",
    "    dfCalendario=pd.DataFrame(dCalendario)\n",
    "    dfCalendario.columns=[\"dtBase\"]\n",
    "    return dfCalendario\n"
   ]
  },
  {
   "cell_type": "markdown",
   "metadata": {},
   "source": [
    " Carrega as informações do arquivo para dentro de uma lista"
   ]
  },
  {
   "cell_type": "code",
   "execution_count": 11,
   "metadata": {
    "collapsed": true
   },
   "outputs": [],
   "source": [
    "\n",
    "class Application(Frame):\n",
    "    def __init__(self, master=None):\n",
    "        Frame.__init__(self, master)\n",
    "        self.place()\n",
    "        self.grid()\n",
    "        \n",
    "        self.lb2=Label()\n",
    "        self.lb2.configure(text=\"Qual o nome que deve ser salvo o arquivo?\", font=\"Verdana,25\", bg=\"white\")\n",
    "        self.lb2.place(x=5,y=35)\n",
    "        \n",
    "        self.txt1=Entry()\n",
    "        self.txt1.configure(width=50, text=\"Exemplo- AtestadosGSM\")\n",
    "        self.txt1.place(x=8,y=70)\n",
    "        \n",
    "        self.btArquivo=Button()\n",
    "        self.btArquivo.configure(width=10, text=\"arquivo\", font=\"Wingdings, 10\",command=lambda:self.fun_inicio())\n",
    "        self.btArquivo.place(x=320,y=60)\n",
    "        \n",
    "        self.lbStatus=Label()\n",
    "        self.lbStatus.configure(text=\"\")\n",
    "        self.lbStatus.place(x=10,y=100)\n",
    "        \n",
    "    \n",
    "    def fun_inicio(self):\n",
    "        strCaminho = fun_Caminho() # Chama a função que localiza o caminho do arquivo\n",
    "        self.lbStatus.configure()\n",
    "\n",
    "        if strCaminho !='': #---Verifica se algum arquivo foi selecionado---\n",
    "            tabela = xlrd.open_workbook(strCaminho).sheet_by_index(0)\n",
    "            qtd_linhas = tabela.nrows\n",
    "            dAtestados=[]\n",
    "            for i in range(1, qtd_linhas):\n",
    "                dAtestados.append(tabela.row_values(i))\n",
    "            \n",
    "\n",
    "            #------------------------------------------------------------------------------------------------------\n",
    "            #   Cria a tabela fato Atestado com as datas dia a dia\n",
    "            #   Cria uma tabela fazendo um loop entre a tabela calendario e a tabela de ausencia\n",
    "            tbAtestado = fun_Carrega_DF_Atestados(dAtestados, tabela)\n",
    "            dtInicio = datetime.strptime(\"2016/01/01\",\"%Y/%m/%d\")#tbAtestado.dtInicio.min()\n",
    "            dtFim = tbAtestado.dtFim.max()\n",
    "            nDias = 883 #abs((dtFim-dtInicio))\n",
    "        \n",
    "            tbCalendario = fun_Tabela_Calendario(nDias, dtInicio)\n",
    "\n",
    "            lista =[]\n",
    "            for row1 in tbCalendario.itertuples():\n",
    "                for row2 in tbAtestado.itertuples():\n",
    "                    if row1.dtBase >= row2._4 and row1.dtBase <= row2._5:\n",
    "                        lista.append([row1.dtBase, row2._4, row2._5,row2._8,row2._3, row2._6])\n",
    "            #--------------------------------------------------------------------------------------------------------\n",
    "            #   Carrega o DataFrame com a lista da tabela fato de ausencias\n",
    "            dfAtest = pd.DataFrame(lista)\n",
    "            dfAtest.columns=['dtBase','dtInicio','dtFim','CID','CPF','Meses']                          \n",
    "            #   Salva a tabela em um arquivo CSV \n",
    "            strArquivo = str(self.txt1.get())\n",
    "            if strArquivo !='':\n",
    "                NomeArquivo= str(r\"C:\\Users\\marcos.souto\\Desktop\\Diversos\\'\") + str(self.txt1.get())\n",
    "                dfAtest.to_csv( NomeArquivo +\".csv\" ,sep=',')\n",
    "                self.lbStatus.configure(text=\"Arquivo gerado com sucesso\")\n",
    "            \n",
    "            else:\n",
    "                self.lbStatus.configure(text=\"Necessario escolher o nome do para o arquivo gerado.\")\n",
    "            \n",
    "            #--------------------------------------------------------------------------------------------------------\n",
    "            \n",
    "root = tk.Tk()\n",
    "#Display(root)\n",
    "root.title(\"Criação de Tabela Fato\")\n",
    "root.resizable(height=FALSE,width=FALSE) # não deixa maximizar e nem alterar o frame\n",
    "root.geometry(\"450x150+200+150\")\n",
    "root.configure(background=\"white\") \n",
    "app=Application(master=root)\n",
    "app.mainloop()\n",
    "\n",
    "            "
   ]
  },
  {
   "cell_type": "code",
   "execution_count": null,
   "metadata": {},
   "outputs": [],
   "source": [
    "Frame.dAtestados"
   ]
  },
  {
   "cell_type": "code",
   "execution_count": null,
   "metadata": {},
   "outputs": [],
   "source": []
  }
 ],
 "metadata": {
  "kernelspec": {
   "display_name": "Python 3",
   "language": "python",
   "name": "python3"
  },
  "language_info": {
   "codemirror_mode": {
    "name": "ipython",
    "version": 3
   },
   "file_extension": ".py",
   "mimetype": "text/x-python",
   "name": "python",
   "nbconvert_exporter": "python",
   "pygments_lexer": "ipython3",
   "version": "3.6.4"
  }
 },
 "nbformat": 4,
 "nbformat_minor": 2
}
