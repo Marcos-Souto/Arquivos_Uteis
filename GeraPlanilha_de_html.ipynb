{
 "cells": [
  {
   "cell_type": "code",
   "execution_count": 2,
   "metadata": {},
   "outputs": [],
   "source": [
    "import pandas as pd\n",
    "import csv\n",
    "import xlrd\n",
    "import numpy as np\n",
    "import os\n",
    "import glob\n",
    "from datetime import date\n",
    "import shutil"
   ]
  },
  {
   "cell_type": "code",
   "execution_count": 94,
   "metadata": {},
   "outputs": [],
   "source": [
    "dff = pd.DataFrame()\n",
    "\n",
    "my_dir = str(r\"\\\\GCRJ01t-SRV03\\Privado\\Gestão de Risco e Saúde\\VALIDAÇÕES\\UnimedRio\\Arquivos\")\n",
    "frame = pd.read_csv(r'\\\\GCRJ01t-SRV03\\Privado\\Gestão de Risco e Saúde\\VALIDAÇÕES\\UnimedRio\\ArquivosRIP.csv', sep=',',encoding = 'utf8')\n",
    "strHead=frame.columns.tolist()\n",
    "\n",
    "os.chdir(my_dir)\n",
    "\n",
    "for files in glob.glob('*.htm'):\n",
    "    tabela = pd.read_html(files)\n",
    "    frm = pd.DataFrame(tabela[1])\n",
    "    df=frm.transpose()\n",
    "    df.columns=[df.loc[0]]\n",
    "    df.drop([0,1],inplace = True)\n",
    "    df=df.dropna(axis=1, how='all')\n",
    "    df.to_csv(r'\\\\GCRJ01t-SRV03\\Privado\\Gestão de Risco e Saúde\\VALIDAÇÕES\\UnimedRio\\ArquivosRIPx.csv', sep=',', index=False)\n",
    "    df1 = pd.read_csv(r'\\\\GCRJ01t-SRV03\\Privado\\Gestão de Risco e Saúde\\VALIDAÇÕES\\UnimedRio\\ArquivosRIPx.csv', sep=',',encoding = 'utf8')\n",
    "    df1[\"Data\"]=date.today()\n",
    "    frame=pd.concat([frame,df1])\n",
    "    shutil.move(files, r\"\\\\GCRJ01t-SRV03\\Privado\\Gestão de Risco e Saúde\\VALIDAÇÕES\\UnimedRio\\Arquivo\\ArqFinali\")\n",
    "\n",
    "frame.to_csv(r'\\\\GCRJ01t-SRV03\\Privado\\Gestão de Risco e Saúde\\VALIDAÇÕES\\UnimedRio\\ArquivosRIP.csv', sep=',', index=False)\n"
   ]
  }
 ],
 "metadata": {
  "kernelspec": {
   "display_name": "Python 3",
   "language": "python",
   "name": "python3"
  },
  "language_info": {
   "codemirror_mode": {
    "name": "ipython",
    "version": 3
   },
   "file_extension": ".py",
   "mimetype": "text/x-python",
   "name": "python",
   "nbconvert_exporter": "python",
   "pygments_lexer": "ipython3",
   "version": "3.6.4"
  }
 },
 "nbformat": 4,
 "nbformat_minor": 2
}
