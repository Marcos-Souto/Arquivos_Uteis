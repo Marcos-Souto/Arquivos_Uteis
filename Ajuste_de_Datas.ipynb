{
 "cells": [
  {
   "cell_type": "markdown",
   "metadata": {},
   "source": [
    "# Aplicação para criar tabela fato de atestados e afastaos"
   ]
  },
  {
   "cell_type": "markdown",
   "metadata": {},
   "source": [
    "Esta aplicação pegas os dados da tabela de afastados e atestados e os organizam de forma que consiga em uma tabela fato de maeira que se consiga saber o numero de dias perdidos por mês"
   ]
  },
  {
   "cell_type": "code",
   "execution_count": 1,
   "metadata": {
    "collapsed": true
   },
   "outputs": [],
   "source": [
    "import csv\n",
    "import xlrd\n",
    "from tkinter import *\n",
    "from functools import partial\n",
    "from tkinter import filedialog\n",
    "from tkinter import messagebox\n",
    "import pandas as pd\n",
    "from datetime import datetime, timedelta"
   ]
  },
  {
   "cell_type": "code",
   "execution_count": 2,
   "metadata": {
    "collapsed": true
   },
   "outputs": [],
   "source": [
    "#---------------------------------------------------------\n",
    "#    Função abre caixa de dialogo para localizar aquivo\n",
    "#---------------------------------------------------------\n",
    "def fun_Caminho():\n",
    "        #---Abre a caixa de dialogo e atribui o caminho a string ---------\n",
    "            caminho = filedialog.askopenfilename(initialdir = \"/\",title = \"Select file\",filetypes = ((\"Excel files\",\"*.xls*\"),(\"all files\",\"*.*\")))\n",
    "            return caminho\n",
    "        "
   ]
  },
  {
   "cell_type": "code",
   "execution_count": 3,
   "metadata": {
    "collapsed": true
   },
   "outputs": [],
   "source": [
    "#--------------------------------------------------------------------\n",
    "#    Carrega as informações do arquivo para dentro de uma lista\n",
    "#--------------------------------------------------------------------\n",
    "\n",
    "strCaminho = fun_Caminho() # Chama a função que localiza o caminho do arquivo\n",
    "\n",
    "#----------Verifica se algum arquivo foi selecionado--------------------------\n",
    "if strCaminho !='':\n",
    "    tabela = xlrd.open_workbook(strCaminho).sheet_by_index(0)\n",
    "    qtd_linhas = tabela.nrows\n",
    "    dAtestados=[]\n",
    "    for i in range(1, qtd_linhas):\n",
    "        dAtestados.append(tabela.row_values(i))\n",
    "mainloop()\n",
    "        \n",
    "    "
   ]
  },
  {
   "cell_type": "code",
   "execution_count": 4,
   "metadata": {},
   "outputs": [],
   "source": [
    "#---------------------------------------------------------------------\n",
    "#           Carrega o DataFrame com as informações do arquivo\n",
    "#--------------------------------------------------------------------\n",
    "\n",
    "df=pd.DataFrame(dAtestados) #--Carega o DataFrame\n",
    "df.columns=[tabela.row_values(0)]\n",
    "\n",
    "#--------------Renomeio a coluna ce inicio e fim do atestado---------------\n",
    "df.rename(columns={'Início Atestado':'dtInicio'},inplace=True)\n",
    "df.rename(columns={'Término Atestado':'dtFim'},inplace=True)\n",
    "df.rename(columns={'Ficha Médica':'Ficha'},inplace=True)"
   ]
  },
  {
   "cell_type": "code",
   "execution_count": 5,
   "metadata": {
    "scrolled": false
   },
   "outputs": [],
   "source": [
    "#------------------------------------------------------------------------\n",
    "#           Cria tabela calendario auxiliar\n",
    "#------------------------------------------------------------------------\n",
    "dtInicio = datetime.strptime(df.dtInicio.min(), '%d/%m/%Y')-timedelta(days=1)\n",
    "dtFim = datetime.strptime(df.dtFim.max(), '%d/%m/%Y')+timedelta(days=1)\n",
    "nDias= abs((dtFim-dtInicio).days)\n",
    "\n",
    "dCalendario=[]\n",
    "for dtBase in range(1, nDias):\n",
    "    dCalendario.append(dtInicio + timedelta(days=dtBase))\n",
    "    "
   ]
  },
  {
   "cell_type": "code",
   "execution_count": 6,
   "metadata": {},
   "outputs": [],
   "source": [
    "#-----------------Cria um DataFrame de calendario -----------------\n",
    "dfCalendario=pd.DataFrame(dCalendario)\n",
    "dfCalendario.columns=['dtBase']\n",
    "\n",
    "#------Converte as colunas em datatime ------------------------\n",
    "df['dtInicio']=pd.to_datetime(df['dtInicio'])\n",
    "df['dtFim']=pd.to_datetime(df['dtFim'])"
   ]
  },
  {
   "cell_type": "code",
   "execution_count": 7,
   "metadata": {},
   "outputs": [],
   "source": [
    "#--------------------------------------------------------------------------\n",
    "#           Cria a tabela fato Atestado com as datas dia a dia\n",
    "#--------------------------------------------------------------------------\n",
    "lista=[]\n",
    "for row1 in dfCalendario.itertuples():\n",
    "    for row2 in df.itertuples():\n",
    "       if row1.dtBase >= row2.dtInicio and row1.dtBase<=row2.dtFim:\n",
    "        #print(row1.dtBase, row2.dtInicio, row2.dtFim) \n",
    "            lista.append([row1.dtBase, row2.dtInicio, row2.dtFim,row2.CID,row2.Empresa,row2.Ficha])\n",
    "       "
   ]
  },
  {
   "cell_type": "code",
   "execution_count": 13,
   "metadata": {},
   "outputs": [],
   "source": [
    "#----------------Carrega o DataFrame com a lista da tabeal fato --------------------\n",
    "dfAtest=pd.DataFrame(lista)\n",
    "dfAtest.columns=['dtBase','dtInicio','dtFim','CID','Empresa','Ficha']\n",
    "#dfAtest.sort_values(by=['Ficha','dtInicio'])"
   ]
  },
  {
   "cell_type": "code",
   "execution_count": 12,
   "metadata": {},
   "outputs": [],
   "source": [
    "#-----------------Salva a tabela em um arquivo CSV ---------------------------------------\n",
    "dfAtest.to_csv(r'C:\\Users\\marcos.souto\\Desktop\\Diversos\\fAtestados.csv',sep=',')\n"
   ]
  },
  {
   "cell_type": "code",
   "execution_count": null,
   "metadata": {
    "collapsed": true
   },
   "outputs": [],
   "source": []
  }
 ],
 "metadata": {
  "kernelspec": {
   "display_name": "Python 3",
   "language": "python",
   "name": "python3"
  },
  "language_info": {
   "codemirror_mode": {
    "name": "ipython",
    "version": 3
   },
   "file_extension": ".py",
   "mimetype": "text/x-python",
   "name": "python",
   "nbconvert_exporter": "python",
   "pygments_lexer": "ipython3",
   "version": "3.6.1"
  }
 },
 "nbformat": 4,
 "nbformat_minor": 2
}
